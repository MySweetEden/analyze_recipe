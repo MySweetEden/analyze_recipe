{
 "cells": [
  {
   "cell_type": "markdown",
   "id": "dbf02587",
   "metadata": {
    "papermill": {
     "duration": 0.005112,
     "end_time": "2024-09-15T19:03:11.742413",
     "exception": false,
     "start_time": "2024-09-15T19:03:11.737301",
     "status": "completed"
    },
    "tags": []
   },
   "source": [
    "# read csv"
   ]
  },
  {
   "cell_type": "code",
   "execution_count": 1,
   "id": "2d912c8d",
   "metadata": {
    "execution": {
     "iopub.execute_input": "2024-09-15T19:03:11.753754Z",
     "iopub.status.busy": "2024-09-15T19:03:11.753267Z",
     "iopub.status.idle": "2024-09-15T19:04:12.432633Z",
     "shell.execute_reply": "2024-09-15T19:04:12.431721Z"
    },
    "papermill": {
     "duration": 60.68788,
     "end_time": "2024-09-15T19:04:12.435272",
     "exception": false,
     "start_time": "2024-09-15T19:03:11.747392",
     "status": "completed"
    },
    "tags": []
   },
   "outputs": [],
   "source": [
    "import pandas as pd\n",
    "df = pd.read_csv(\"/kaggle/input/recipe-dataset-over-2m/recipes_data.csv\")"
   ]
  },
  {
   "cell_type": "code",
   "execution_count": 2,
   "id": "508ae0ac",
   "metadata": {
    "execution": {
     "iopub.execute_input": "2024-09-15T19:04:12.446178Z",
     "iopub.status.busy": "2024-09-15T19:04:12.445568Z",
     "iopub.status.idle": "2024-09-15T19:04:12.450677Z",
     "shell.execute_reply": "2024-09-15T19:04:12.449771Z"
    },
    "papermill": {
     "duration": 0.01264,
     "end_time": "2024-09-15T19:04:12.452838",
     "exception": false,
     "start_time": "2024-09-15T19:04:12.440198",
     "status": "completed"
    },
    "tags": []
   },
   "outputs": [
    {
     "name": "stdout",
     "output_type": "stream",
     "text": [
      "2231142\n"
     ]
    }
   ],
   "source": [
    "print(len(df))"
   ]
  },
  {
   "cell_type": "markdown",
   "id": "72632a5c",
   "metadata": {
    "execution": {
     "iopub.execute_input": "2024-09-14T19:05:26.944100Z",
     "iopub.status.busy": "2024-09-14T19:05:26.943256Z",
     "iopub.status.idle": "2024-09-14T19:05:26.948026Z",
     "shell.execute_reply": "2024-09-14T19:05:26.946951Z",
     "shell.execute_reply.started": "2024-09-14T19:05:26.944055Z"
    },
    "papermill": {
     "duration": 0.004198,
     "end_time": "2024-09-15T19:04:12.461519",
     "exception": false,
     "start_time": "2024-09-15T19:04:12.457321",
     "status": "completed"
    },
    "tags": []
   },
   "source": [
    "# remove data contains null"
   ]
  },
  {
   "cell_type": "code",
   "execution_count": 3,
   "id": "ac184e5a",
   "metadata": {
    "execution": {
     "iopub.execute_input": "2024-09-15T19:04:12.471630Z",
     "iopub.status.busy": "2024-09-15T19:04:12.471293Z",
     "iopub.status.idle": "2024-09-15T19:04:14.021829Z",
     "shell.execute_reply": "2024-09-15T19:04:14.020725Z"
    },
    "papermill": {
     "duration": 1.558522,
     "end_time": "2024-09-15T19:04:14.024303",
     "exception": false,
     "start_time": "2024-09-15T19:04:12.465781",
     "status": "completed"
    },
    "tags": []
   },
   "outputs": [],
   "source": [
    "df = df.dropna(how='any', axis=0)"
   ]
  },
  {
   "cell_type": "code",
   "execution_count": 4,
   "id": "fda2174e",
   "metadata": {
    "execution": {
     "iopub.execute_input": "2024-09-15T19:04:14.035233Z",
     "iopub.status.busy": "2024-09-15T19:04:14.034843Z",
     "iopub.status.idle": "2024-09-15T19:04:14.040493Z",
     "shell.execute_reply": "2024-09-15T19:04:14.039172Z"
    },
    "papermill": {
     "duration": 0.013557,
     "end_time": "2024-09-15T19:04:14.042582",
     "exception": false,
     "start_time": "2024-09-15T19:04:14.029025",
     "status": "completed"
    },
    "tags": []
   },
   "outputs": [
    {
     "name": "stdout",
     "output_type": "stream",
     "text": [
      "2231141\n"
     ]
    }
   ],
   "source": [
    "print(len(df))"
   ]
  },
  {
   "cell_type": "code",
   "execution_count": 5,
   "id": "6936361e",
   "metadata": {
    "execution": {
     "iopub.execute_input": "2024-09-15T19:04:14.053233Z",
     "iopub.status.busy": "2024-09-15T19:04:14.052887Z",
     "iopub.status.idle": "2024-09-15T19:04:14.085584Z",
     "shell.execute_reply": "2024-09-15T19:04:14.084563Z"
    },
    "papermill": {
     "duration": 0.041245,
     "end_time": "2024-09-15T19:04:14.088511",
     "exception": false,
     "start_time": "2024-09-15T19:04:14.047266",
     "status": "completed"
    },
    "tags": []
   },
   "outputs": [
    {
     "data": {
      "text/html": [
       "<div>\n",
       "<style scoped>\n",
       "    .dataframe tbody tr th:only-of-type {\n",
       "        vertical-align: middle;\n",
       "    }\n",
       "\n",
       "    .dataframe tbody tr th {\n",
       "        vertical-align: top;\n",
       "    }\n",
       "\n",
       "    .dataframe thead th {\n",
       "        text-align: right;\n",
       "    }\n",
       "</style>\n",
       "<table border=\"1\" class=\"dataframe\">\n",
       "  <thead>\n",
       "    <tr style=\"text-align: right;\">\n",
       "      <th></th>\n",
       "      <th>title</th>\n",
       "      <th>ingredients</th>\n",
       "      <th>directions</th>\n",
       "      <th>link</th>\n",
       "      <th>source</th>\n",
       "      <th>NER</th>\n",
       "      <th>site</th>\n",
       "    </tr>\n",
       "  </thead>\n",
       "  <tbody>\n",
       "    <tr>\n",
       "      <th>0</th>\n",
       "      <td>No-Bake Nut Cookies</td>\n",
       "      <td>[\"1 c. firmly packed brown sugar\", \"1/2 c. eva...</td>\n",
       "      <td>[\"In a heavy 2-quart saucepan, mix brown sugar...</td>\n",
       "      <td>www.cookbooks.com/Recipe-Details.aspx?id=44874</td>\n",
       "      <td>Gathered</td>\n",
       "      <td>[\"bite size shredded rice biscuits\", \"vanilla\"...</td>\n",
       "      <td>www.cookbooks.com</td>\n",
       "    </tr>\n",
       "    <tr>\n",
       "      <th>1</th>\n",
       "      <td>Jewell Ball'S Chicken</td>\n",
       "      <td>[\"1 small jar chipped beef, cut up\", \"4 boned ...</td>\n",
       "      <td>[\"Place chipped beef on bottom of baking dish....</td>\n",
       "      <td>www.cookbooks.com/Recipe-Details.aspx?id=699419</td>\n",
       "      <td>Gathered</td>\n",
       "      <td>[\"cream of mushroom soup\", \"beef\", \"sour cream...</td>\n",
       "      <td>www.cookbooks.com</td>\n",
       "    </tr>\n",
       "    <tr>\n",
       "      <th>2</th>\n",
       "      <td>Creamy Corn</td>\n",
       "      <td>[\"2 (16 oz.) pkg. frozen corn\", \"1 (8 oz.) pkg...</td>\n",
       "      <td>[\"In a slow cooker, combine all ingredients. C...</td>\n",
       "      <td>www.cookbooks.com/Recipe-Details.aspx?id=10570</td>\n",
       "      <td>Gathered</td>\n",
       "      <td>[\"frozen corn\", \"pepper\", \"cream cheese\", \"gar...</td>\n",
       "      <td>www.cookbooks.com</td>\n",
       "    </tr>\n",
       "    <tr>\n",
       "      <th>3</th>\n",
       "      <td>Chicken Funny</td>\n",
       "      <td>[\"1 large whole chicken\", \"2 (10 1/2 oz.) cans...</td>\n",
       "      <td>[\"Boil and debone chicken.\", \"Put bite size pi...</td>\n",
       "      <td>www.cookbooks.com/Recipe-Details.aspx?id=897570</td>\n",
       "      <td>Gathered</td>\n",
       "      <td>[\"chicken gravy\", \"cream of mushroom soup\", \"c...</td>\n",
       "      <td>www.cookbooks.com</td>\n",
       "    </tr>\n",
       "    <tr>\n",
       "      <th>4</th>\n",
       "      <td>Reeses Cups(Candy)</td>\n",
       "      <td>[\"1 c. peanut butter\", \"3/4 c. graham cracker ...</td>\n",
       "      <td>[\"Combine first four ingredients and press in ...</td>\n",
       "      <td>www.cookbooks.com/Recipe-Details.aspx?id=659239</td>\n",
       "      <td>Gathered</td>\n",
       "      <td>[\"graham cracker crumbs\", \"powdered sugar\", \"p...</td>\n",
       "      <td>www.cookbooks.com</td>\n",
       "    </tr>\n",
       "  </tbody>\n",
       "</table>\n",
       "</div>"
      ],
      "text/plain": [
       "                   title                                        ingredients  \\\n",
       "0    No-Bake Nut Cookies  [\"1 c. firmly packed brown sugar\", \"1/2 c. eva...   \n",
       "1  Jewell Ball'S Chicken  [\"1 small jar chipped beef, cut up\", \"4 boned ...   \n",
       "2            Creamy Corn  [\"2 (16 oz.) pkg. frozen corn\", \"1 (8 oz.) pkg...   \n",
       "3          Chicken Funny  [\"1 large whole chicken\", \"2 (10 1/2 oz.) cans...   \n",
       "4   Reeses Cups(Candy)    [\"1 c. peanut butter\", \"3/4 c. graham cracker ...   \n",
       "\n",
       "                                          directions  \\\n",
       "0  [\"In a heavy 2-quart saucepan, mix brown sugar...   \n",
       "1  [\"Place chipped beef on bottom of baking dish....   \n",
       "2  [\"In a slow cooker, combine all ingredients. C...   \n",
       "3  [\"Boil and debone chicken.\", \"Put bite size pi...   \n",
       "4  [\"Combine first four ingredients and press in ...   \n",
       "\n",
       "                                              link    source  \\\n",
       "0   www.cookbooks.com/Recipe-Details.aspx?id=44874  Gathered   \n",
       "1  www.cookbooks.com/Recipe-Details.aspx?id=699419  Gathered   \n",
       "2   www.cookbooks.com/Recipe-Details.aspx?id=10570  Gathered   \n",
       "3  www.cookbooks.com/Recipe-Details.aspx?id=897570  Gathered   \n",
       "4  www.cookbooks.com/Recipe-Details.aspx?id=659239  Gathered   \n",
       "\n",
       "                                                 NER               site  \n",
       "0  [\"bite size shredded rice biscuits\", \"vanilla\"...  www.cookbooks.com  \n",
       "1  [\"cream of mushroom soup\", \"beef\", \"sour cream...  www.cookbooks.com  \n",
       "2  [\"frozen corn\", \"pepper\", \"cream cheese\", \"gar...  www.cookbooks.com  \n",
       "3  [\"chicken gravy\", \"cream of mushroom soup\", \"c...  www.cookbooks.com  \n",
       "4  [\"graham cracker crumbs\", \"powdered sugar\", \"p...  www.cookbooks.com  "
      ]
     },
     "execution_count": 5,
     "metadata": {},
     "output_type": "execute_result"
    }
   ],
   "source": [
    "df.head(5)"
   ]
  },
  {
   "cell_type": "markdown",
   "id": "03d25dd9",
   "metadata": {
    "papermill": {
     "duration": 0.007131,
     "end_time": "2024-09-15T19:04:14.103443",
     "exception": false,
     "start_time": "2024-09-15T19:04:14.096312",
     "status": "completed"
    },
    "tags": []
   },
   "source": [
    "# load fasttext model"
   ]
  },
  {
   "cell_type": "code",
   "execution_count": 6,
   "id": "27665a20",
   "metadata": {
    "execution": {
     "iopub.execute_input": "2024-09-15T19:04:14.119924Z",
     "iopub.status.busy": "2024-09-15T19:04:14.119492Z",
     "iopub.status.idle": "2024-09-15T19:16:08.712907Z",
     "shell.execute_reply": "2024-09-15T19:16:08.711910Z"
    },
    "papermill": {
     "duration": 714.604962,
     "end_time": "2024-09-15T19:16:08.715771",
     "exception": false,
     "start_time": "2024-09-15T19:04:14.110809",
     "status": "completed"
    },
    "tags": []
   },
   "outputs": [
    {
     "name": "stdout",
     "output_type": "stream",
     "text": [
      "Downloading https://dl.fbaipublicfiles.com/fasttext/vectors-crawl/cc.en.300.bin.gz\n",
      " (99.99%) [=================================================> ]\r"
     ]
    }
   ],
   "source": [
    "# install fasttext model\n",
    "# https://fasttext.cc/docs/en/crawl-vectors.html\n",
    "\n",
    "# load model and measure word mover's distance with gensim\n",
    "# https://radimrehurek.com/gensim/auto_examples/tutorials/run_fasttext.html\n",
    "\n",
    "import fasttext.util\n",
    "fasttext.util.download_model('en', if_exists='ignore')  # English\n",
    "\n",
    "import gensim\n",
    "bin_path = '/kaggle/working/cc.en.300.bin'\n",
    "model = gensim.models.fasttext.load_facebook_model(bin_path)"
   ]
  },
  {
   "cell_type": "markdown",
   "id": "44f89489",
   "metadata": {
    "papermill": {
     "duration": 25.591292,
     "end_time": "2024-09-15T19:17:00.067942",
     "exception": false,
     "start_time": "2024-09-15T19:16:34.476650",
     "status": "completed"
    },
    "tags": []
   },
   "source": [
    "# create counter"
   ]
  },
  {
   "cell_type": "code",
   "execution_count": 7,
   "id": "782fa2d7",
   "metadata": {
    "execution": {
     "iopub.execute_input": "2024-09-15T19:17:51.668496Z",
     "iopub.status.busy": "2024-09-15T19:17:51.667757Z",
     "iopub.status.idle": "2024-09-15T19:17:51.746187Z",
     "shell.execute_reply": "2024-09-15T19:17:51.745081Z"
    },
    "papermill": {
     "duration": 25.95709,
     "end_time": "2024-09-15T19:17:51.748433",
     "exception": false,
     "start_time": "2024-09-15T19:17:25.791343",
     "status": "completed"
    },
    "tags": []
   },
   "outputs": [],
   "source": [
    "class Counter:\n",
    "    _instance = None\n",
    "    _count = 0\n",
    "\n",
    "    def __new__(cls):\n",
    "        if cls._instance is None:\n",
    "            cls._instance = super(Counter, cls).__new__(cls)\n",
    "        return cls._instance\n",
    "\n",
    "    def increment(self):\n",
    "        Counter._count += 1\n",
    "        return Counter._count\n",
    "\n",
    "    @classmethod\n",
    "    def get_count(cls):\n",
    "        return cls._count\n",
    "    \n",
    "    @classmethod\n",
    "    def reset_count(cls):\n",
    "        cls._count = 0\n",
    "        return cls._count\n",
    "\n",
    "counter = Counter()"
   ]
  },
  {
   "cell_type": "code",
   "execution_count": 8,
   "id": "ad8fb698",
   "metadata": {
    "execution": {
     "iopub.execute_input": "2024-09-15T19:18:43.689800Z",
     "iopub.status.busy": "2024-09-15T19:18:43.689362Z",
     "iopub.status.idle": "2024-09-15T19:18:58.532242Z",
     "shell.execute_reply": "2024-09-15T19:18:58.530939Z"
    },
    "papermill": {
     "duration": 40.759275,
     "end_time": "2024-09-15T19:18:58.535066",
     "exception": false,
     "start_time": "2024-09-15T19:18:17.775791",
     "status": "completed"
    },
    "tags": []
   },
   "outputs": [
    {
     "name": "stdout",
     "output_type": "stream",
     "text": [
      "Collecting POT\r\n",
      "  Downloading POT-0.9.4-cp310-cp310-manylinux_2_17_x86_64.manylinux2014_x86_64.whl.metadata (32 kB)\r\n",
      "Requirement already satisfied: numpy>=1.16 in /opt/conda/lib/python3.10/site-packages (from POT) (1.26.4)\r\n",
      "Requirement already satisfied: scipy>=1.6 in /opt/conda/lib/python3.10/site-packages (from POT) (1.14.0)\r\n",
      "Downloading POT-0.9.4-cp310-cp310-manylinux_2_17_x86_64.manylinux2014_x86_64.whl (835 kB)\r\n",
      "\u001b[2K   \u001b[90m━━━━━━━━━━━━━━━━━━━━━━━━━━━━━━━━━━━━━━━━\u001b[0m \u001b[32m835.4/835.4 kB\u001b[0m \u001b[31m22.0 MB/s\u001b[0m eta \u001b[36m0:00:00\u001b[0m\r\n",
      "\u001b[?25hInstalling collected packages: POT\r\n",
      "Successfully installed POT-0.9.4\r\n"
     ]
    }
   ],
   "source": [
    "# pot library is necessary to execute wmdistance func\n",
    "!pip install POT"
   ]
  },
  {
   "cell_type": "markdown",
   "id": "44ec6db6",
   "metadata": {
    "papermill": {
     "duration": 26.726051,
     "end_time": "2024-09-15T19:19:54.996339",
     "exception": false,
     "start_time": "2024-09-15T19:19:28.270288",
     "status": "completed"
    },
    "tags": []
   },
   "source": [
    "# define classification logic"
   ]
  },
  {
   "cell_type": "code",
   "execution_count": 9,
   "id": "a8e205ad",
   "metadata": {
    "execution": {
     "iopub.execute_input": "2024-09-15T19:20:47.331013Z",
     "iopub.status.busy": "2024-09-15T19:20:47.329317Z",
     "iopub.status.idle": "2024-09-15T19:20:47.341105Z",
     "shell.execute_reply": "2024-09-15T19:20:47.340002Z"
    },
    "papermill": {
     "duration": 26.201902,
     "end_time": "2024-09-15T19:20:47.343450",
     "exception": false,
     "start_time": "2024-09-15T19:20:21.141548",
     "status": "completed"
    },
    "tags": []
   },
   "outputs": [],
   "source": [
    "from gensim.parsing.preprocessing import STOPWORDS\n",
    "from typing import List\n",
    "\n",
    "def preprocess(text: str) -> List:\n",
    "    # Tokenization and lowercasing\n",
    "    tokens = gensim.utils.simple_preprocess(text.lower())\n",
    "    tokens = [word for word in tokens if word not in STOPWORDS]\n",
    "    return tokens    \n",
    "    \n",
    "def categorize(text: str) -> str:\n",
    "    counter.increment()\n",
    "    if counter.get_count() % 1000 == 0:\n",
    "        print(counter.get_count(), end='\\r')\n",
    "    \n",
    "    tokens = preprocess(text)\n",
    "    \n",
    "    # Compare distance to \"sweets\" and \"meals\"\n",
    "    dist_sweets = model.wv.wmdistance(tokens, preprocess(\"sweets snacks desserts\"))\n",
    "    dist_meals = model.wv.wmdistance(tokens, preprocess(\"meals dishes food\"))\n",
    "\n",
    "    if dist_sweets < dist_meals:\n",
    "        return \"sweets\"\n",
    "    else:\n",
    "        return \"meals\""
   ]
  },
  {
   "cell_type": "code",
   "execution_count": 10,
   "id": "a48aec7a",
   "metadata": {
    "execution": {
     "iopub.execute_input": "2024-09-15T19:21:39.581468Z",
     "iopub.status.busy": "2024-09-15T19:21:39.580347Z",
     "iopub.status.idle": "2024-09-15T19:21:39.585514Z",
     "shell.execute_reply": "2024-09-15T19:21:39.584608Z"
    },
    "papermill": {
     "duration": 26.00925,
     "end_time": "2024-09-15T19:21:39.587707",
     "exception": false,
     "start_time": "2024-09-15T19:21:13.578457",
     "status": "completed"
    },
    "tags": []
   },
   "outputs": [],
   "source": [
    "import time"
   ]
  },
  {
   "cell_type": "code",
   "execution_count": 11,
   "id": "95f3964b",
   "metadata": {
    "execution": {
     "iopub.execute_input": "2024-09-15T19:22:31.516881Z",
     "iopub.status.busy": "2024-09-15T19:22:31.515882Z",
     "iopub.status.idle": "2024-09-15T20:14:02.457800Z",
     "shell.execute_reply": "2024-09-15T20:14:02.456016Z"
    },
    "papermill": {
     "duration": 3117.384536,
     "end_time": "2024-09-15T20:14:02.460376",
     "exception": false,
     "start_time": "2024-09-15T19:22:05.075840",
     "status": "completed"
    },
    "tags": []
   },
   "outputs": [
    {
     "name": "stdout",
     "output_type": "stream",
     "text": [
      "3090.9321908950806\n"
     ]
    }
   ],
   "source": [
    "counter.reset_count()\n",
    "\n",
    "start = time.time()\n",
    "label_with_title = df[\"title\"].apply(categorize)\n",
    "end = time.time()\n",
    "print(end - start)"
   ]
  },
  {
   "cell_type": "code",
   "execution_count": 12,
   "id": "6d278c7c",
   "metadata": {
    "execution": {
     "iopub.execute_input": "2024-09-15T20:14:55.135489Z",
     "iopub.status.busy": "2024-09-15T20:14:55.135002Z",
     "iopub.status.idle": "2024-09-15T20:14:56.288505Z",
     "shell.execute_reply": "2024-09-15T20:14:56.287330Z"
    },
    "papermill": {
     "duration": 27.234668,
     "end_time": "2024-09-15T20:14:56.291558",
     "exception": false,
     "start_time": "2024-09-15T20:14:29.056890",
     "status": "completed"
    },
    "tags": []
   },
   "outputs": [],
   "source": [
    "label_with_title.to_csv(\"label_with_title.csv\", index = False)"
   ]
  },
  {
   "cell_type": "code",
   "execution_count": 13,
   "id": "b348c7c8",
   "metadata": {
    "execution": {
     "iopub.execute_input": "2024-09-15T20:15:48.089875Z",
     "iopub.status.busy": "2024-09-15T20:15:48.088760Z",
     "iopub.status.idle": "2024-09-15T21:44:55.506143Z",
     "shell.execute_reply": "2024-09-15T21:44:55.504932Z"
    },
    "papermill": {
     "duration": 5393.70455,
     "end_time": "2024-09-15T21:45:16.054296",
     "exception": false,
     "start_time": "2024-09-15T20:15:22.349746",
     "status": "completed"
    },
    "tags": []
   },
   "outputs": [
    {
     "name": "stdout",
     "output_type": "stream",
     "text": [
      "5347.410380125046\n"
     ]
    }
   ],
   "source": [
    "counter.reset_count()\n",
    "\n",
    "start = time.time()\n",
    "label_with_directions = df[\"directions\"].apply(categorize)\n",
    "end = time.time()\n",
    "print(end - start)"
   ]
  },
  {
   "cell_type": "code",
   "execution_count": 14,
   "id": "757b81a9",
   "metadata": {
    "execution": {
     "iopub.execute_input": "2024-09-15T21:46:08.616060Z",
     "iopub.status.busy": "2024-09-15T21:46:08.615137Z",
     "iopub.status.idle": "2024-09-15T21:46:09.707327Z",
     "shell.execute_reply": "2024-09-15T21:46:09.706232Z"
    },
    "papermill": {
     "duration": 27.230604,
     "end_time": "2024-09-15T21:46:09.710148",
     "exception": false,
     "start_time": "2024-09-15T21:45:42.479544",
     "status": "completed"
    },
    "tags": []
   },
   "outputs": [],
   "source": [
    "label_with_directions.to_csv(\"label_with_directions.csv\", index = False)"
   ]
  },
  {
   "cell_type": "code",
   "execution_count": 15,
   "id": "de42e0ac",
   "metadata": {
    "execution": {
     "iopub.execute_input": "2024-09-15T21:47:02.186016Z",
     "iopub.status.busy": "2024-09-15T21:47:02.185061Z",
     "iopub.status.idle": "2024-09-15T22:47:39.945264Z",
     "shell.execute_reply": "2024-09-15T22:47:39.943914Z"
    },
    "papermill": {
     "duration": 3663.928734,
     "end_time": "2024-09-15T22:47:39.947874",
     "exception": false,
     "start_time": "2024-09-15T21:46:36.019140",
     "status": "completed"
    },
    "tags": []
   },
   "outputs": [
    {
     "name": "stdout",
     "output_type": "stream",
     "text": [
      "3637.7533571720123\n"
     ]
    }
   ],
   "source": [
    "counter.reset_count()\n",
    "\n",
    "start = time.time()\n",
    "label_with_ner = df[\"NER\"].apply(categorize)\n",
    "end = time.time()\n",
    "print(end - start)"
   ]
  },
  {
   "cell_type": "code",
   "execution_count": 16,
   "id": "b053bf3f",
   "metadata": {
    "execution": {
     "iopub.execute_input": "2024-09-15T22:48:32.601253Z",
     "iopub.status.busy": "2024-09-15T22:48:32.599937Z",
     "iopub.status.idle": "2024-09-15T22:48:33.671059Z",
     "shell.execute_reply": "2024-09-15T22:48:33.669873Z"
    },
    "papermill": {
     "duration": 27.377005,
     "end_time": "2024-09-15T22:48:33.673648",
     "exception": false,
     "start_time": "2024-09-15T22:48:06.296643",
     "status": "completed"
    },
    "tags": []
   },
   "outputs": [],
   "source": [
    "label_with_ner.to_csv(\"label_with_ner.csv\", index = False)"
   ]
  },
  {
   "cell_type": "code",
   "execution_count": 17,
   "id": "53ac73e1",
   "metadata": {
    "execution": {
     "iopub.execute_input": "2024-09-15T22:49:26.260055Z",
     "iopub.status.busy": "2024-09-15T22:49:26.259619Z",
     "iopub.status.idle": "2024-09-15T22:49:28.829972Z",
     "shell.execute_reply": "2024-09-15T22:49:28.829034Z"
    },
    "papermill": {
     "duration": 28.86188,
     "end_time": "2024-09-15T22:49:28.832402",
     "exception": false,
     "start_time": "2024-09-15T22:48:59.970522",
     "status": "completed"
    },
    "tags": []
   },
   "outputs": [],
   "source": [
    "all_labels = pd.concat(\n",
    "    [\n",
    "        label_with_title,\n",
    "        label_with_directions,\n",
    "        label_with_ner\n",
    "    ],\n",
    "    axis=1\n",
    ")\n",
    "all_labels.to_csv(\"all_labels.csv\", index = False)"
   ]
  },
  {
   "cell_type": "code",
   "execution_count": 18,
   "id": "564a8952",
   "metadata": {
    "execution": {
     "iopub.execute_input": "2024-09-15T22:50:21.970210Z",
     "iopub.status.busy": "2024-09-15T22:50:21.969318Z",
     "iopub.status.idle": "2024-09-15T22:50:22.985124Z",
     "shell.execute_reply": "2024-09-15T22:50:22.984017Z"
    },
    "papermill": {
     "duration": 27.804061,
     "end_time": "2024-09-15T22:50:22.987436",
     "exception": false,
     "start_time": "2024-09-15T22:49:55.183375",
     "status": "completed"
    },
    "tags": []
   },
   "outputs": [
    {
     "data": {
      "text/plain": [
       "2                           Creamy Corn\n",
       "7                        Scalloped Corn\n",
       "14         Pink Stuff(Frozen Dessert)  \n",
       "16           Easy German Chocolate Cake\n",
       "19     Eggless Milkless Applesauce Cake\n",
       "29                       One Hour Rolls\n",
       "35                        Artichoke Dip\n",
       "38                      Pear-Lime Salad\n",
       "39              Watermelon Rind Pickles\n",
       "44                          Fruit Pizza\n",
       "54                Dave'S Corn Casserole\n",
       "66                  Frozen Peach Mousse\n",
       "68                   Blueberry Surprise\n",
       "69              Moist Devil'S Food Cake\n",
       "70                 Dot'S Civil War Cake\n",
       "79                         Mulled Cider\n",
       "82         Cranberry-Apple-Orange Salad\n",
       "91                           Pound Cake\n",
       "96                 Sweet-N-Sour Chicken\n",
       "97                             Ambrosia\n",
       "100                            Pancakes\n",
       "102              Red Cabbage And Apples\n",
       "105                 Microwave Spice Tea\n",
       "112                     Cheese-Ham Ball\n",
       "118                           Chess Pie\n",
       "123                     Pistachio Salad\n",
       "129                     Apricot Dessert\n",
       "132                       Artichoke Dip\n",
       "146                   Magic Cookie Bars\n",
       "151                  Baked French Toast\n",
       "Name: title, dtype: object"
      ]
     },
     "execution_count": 18,
     "metadata": {},
     "output_type": "execute_result"
    }
   ],
   "source": [
    "df[\"title\"][(all_labels==\"sweets\").sum(axis=1)==2].head(30)"
   ]
  }
 ],
 "metadata": {
  "kaggle": {
   "accelerator": "none",
   "dataSources": [
    {
     "datasetId": 3454349,
     "sourceId": 6041428,
     "sourceType": "datasetVersion"
    }
   ],
   "dockerImageVersionId": 30761,
   "isGpuEnabled": false,
   "isInternetEnabled": true,
   "language": "python",
   "sourceType": "notebook"
  },
  "kernelspec": {
   "display_name": "Python 3",
   "language": "python",
   "name": "python3"
  },
  "language_info": {
   "codemirror_mode": {
    "name": "ipython",
    "version": 3
   },
   "file_extension": ".py",
   "mimetype": "text/x-python",
   "name": "python",
   "nbconvert_exporter": "python",
   "pygments_lexer": "ipython3",
   "version": "3.10.14"
  },
  "papermill": {
   "default_parameters": {},
   "duration": 13663.093122,
   "end_time": "2024-09-15T22:50:52.267424",
   "environment_variables": {},
   "exception": null,
   "input_path": "__notebook__.ipynb",
   "output_path": "__notebook__.ipynb",
   "parameters": {},
   "start_time": "2024-09-15T19:03:09.174302",
   "version": "2.6.0"
  }
 },
 "nbformat": 4,
 "nbformat_minor": 5
}
